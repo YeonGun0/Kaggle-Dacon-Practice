{
 "cells": [
  {
   "cell_type": "code",
   "execution_count": 14,
   "id": "113875d7",
   "metadata": {},
   "outputs": [],
   "source": [
    "import pandas as pd\n",
    "import numpy as np\n",
    "import seaborn as sns\n",
    "import matplotlib.pyplot as plt\n",
    "from sklearn.preprocessing import LabelEncoder"
   ]
  },
  {
   "cell_type": "code",
   "execution_count": 15,
   "id": "ec3e2b63",
   "metadata": {},
   "outputs": [
    {
     "data": {
      "text/plain": [
       "((91774, 12), (210457, 13))"
      ]
     },
     "execution_count": 15,
     "metadata": {},
     "output_type": "execute_result"
    }
   ],
   "source": [
    "test = pd.read_csv('data/test.csv', index_col='id')\n",
    "train = pd.read_csv('data/train.csv', index_col='id')\n",
    "\n",
    "test.shape, train.shape"
   ]
  },
  {
   "cell_type": "code",
   "execution_count": 16,
   "id": "da23c3ea",
   "metadata": {},
   "outputs": [
    {
     "data": {
      "text/html": [
       "<div>\n",
       "<style scoped>\n",
       "    .dataframe tbody tr th:only-of-type {\n",
       "        vertical-align: middle;\n",
       "    }\n",
       "\n",
       "    .dataframe tbody tr th {\n",
       "        vertical-align: top;\n",
       "    }\n",
       "\n",
       "    .dataframe thead th {\n",
       "        text-align: right;\n",
       "    }\n",
       "</style>\n",
       "<table border=\"1\" class=\"dataframe\">\n",
       "  <thead>\n",
       "    <tr style=\"text-align: right;\">\n",
       "      <th></th>\n",
       "      <th>date</th>\n",
       "      <th>route_id</th>\n",
       "      <th>vh_id</th>\n",
       "      <th>route_nm</th>\n",
       "      <th>now_latitude</th>\n",
       "      <th>now_longitude</th>\n",
       "      <th>now_station</th>\n",
       "      <th>now_arrive_time</th>\n",
       "      <th>distance</th>\n",
       "      <th>next_station</th>\n",
       "      <th>next_latitude</th>\n",
       "      <th>next_longitude</th>\n",
       "    </tr>\n",
       "    <tr>\n",
       "      <th>id</th>\n",
       "      <th></th>\n",
       "      <th></th>\n",
       "      <th></th>\n",
       "      <th></th>\n",
       "      <th></th>\n",
       "      <th></th>\n",
       "      <th></th>\n",
       "      <th></th>\n",
       "      <th></th>\n",
       "      <th></th>\n",
       "      <th></th>\n",
       "      <th></th>\n",
       "    </tr>\n",
       "  </thead>\n",
       "  <tbody>\n",
       "    <tr>\n",
       "      <th>210457</th>\n",
       "      <td>2019-10-29</td>\n",
       "      <td>405136001</td>\n",
       "      <td>7997025</td>\n",
       "      <td>360-1</td>\n",
       "      <td>33.457724</td>\n",
       "      <td>126.554014</td>\n",
       "      <td>제대마을</td>\n",
       "      <td>07시</td>\n",
       "      <td>333.0</td>\n",
       "      <td>제대아파트</td>\n",
       "      <td>33.458783</td>\n",
       "      <td>126.557353</td>\n",
       "    </tr>\n",
       "    <tr>\n",
       "      <th>210458</th>\n",
       "      <td>2019-10-29</td>\n",
       "      <td>405136001</td>\n",
       "      <td>7997025</td>\n",
       "      <td>360-1</td>\n",
       "      <td>33.458783</td>\n",
       "      <td>126.557353</td>\n",
       "      <td>제대아파트</td>\n",
       "      <td>07시</td>\n",
       "      <td>415.0</td>\n",
       "      <td>제주대학교</td>\n",
       "      <td>33.459893</td>\n",
       "      <td>126.561624</td>\n",
       "    </tr>\n",
       "  </tbody>\n",
       "</table>\n",
       "</div>"
      ],
      "text/plain": [
       "              date   route_id    vh_id route_nm  now_latitude  now_longitude  \\\n",
       "id                                                                             \n",
       "210457  2019-10-29  405136001  7997025    360-1     33.457724     126.554014   \n",
       "210458  2019-10-29  405136001  7997025    360-1     33.458783     126.557353   \n",
       "\n",
       "       now_station now_arrive_time  distance next_station  next_latitude  \\\n",
       "id                                                                         \n",
       "210457        제대마을             07시     333.0        제대아파트      33.458783   \n",
       "210458       제대아파트             07시     415.0        제주대학교      33.459893   \n",
       "\n",
       "        next_longitude  \n",
       "id                      \n",
       "210457      126.557353  \n",
       "210458      126.561624  "
      ]
     },
     "metadata": {},
     "output_type": "display_data"
    },
    {
     "data": {
      "text/html": [
       "<div>\n",
       "<style scoped>\n",
       "    .dataframe tbody tr th:only-of-type {\n",
       "        vertical-align: middle;\n",
       "    }\n",
       "\n",
       "    .dataframe tbody tr th {\n",
       "        vertical-align: top;\n",
       "    }\n",
       "\n",
       "    .dataframe thead th {\n",
       "        text-align: right;\n",
       "    }\n",
       "</style>\n",
       "<table border=\"1\" class=\"dataframe\">\n",
       "  <thead>\n",
       "    <tr style=\"text-align: right;\">\n",
       "      <th></th>\n",
       "      <th>date</th>\n",
       "      <th>route_id</th>\n",
       "      <th>vh_id</th>\n",
       "      <th>route_nm</th>\n",
       "      <th>now_latitude</th>\n",
       "      <th>now_longitude</th>\n",
       "      <th>now_station</th>\n",
       "      <th>now_arrive_time</th>\n",
       "      <th>distance</th>\n",
       "      <th>next_station</th>\n",
       "      <th>next_latitude</th>\n",
       "      <th>next_longitude</th>\n",
       "      <th>next_arrive_time</th>\n",
       "    </tr>\n",
       "    <tr>\n",
       "      <th>id</th>\n",
       "      <th></th>\n",
       "      <th></th>\n",
       "      <th></th>\n",
       "      <th></th>\n",
       "      <th></th>\n",
       "      <th></th>\n",
       "      <th></th>\n",
       "      <th></th>\n",
       "      <th></th>\n",
       "      <th></th>\n",
       "      <th></th>\n",
       "      <th></th>\n",
       "      <th></th>\n",
       "    </tr>\n",
       "  </thead>\n",
       "  <tbody>\n",
       "    <tr>\n",
       "      <th>0</th>\n",
       "      <td>2019-10-15</td>\n",
       "      <td>405136001</td>\n",
       "      <td>7997025</td>\n",
       "      <td>360-1</td>\n",
       "      <td>33.456267</td>\n",
       "      <td>126.551750</td>\n",
       "      <td>제주대학교입구</td>\n",
       "      <td>06시</td>\n",
       "      <td>266.0</td>\n",
       "      <td>제대마을</td>\n",
       "      <td>33.457724</td>\n",
       "      <td>126.554014</td>\n",
       "      <td>24</td>\n",
       "    </tr>\n",
       "    <tr>\n",
       "      <th>1</th>\n",
       "      <td>2019-10-15</td>\n",
       "      <td>405136001</td>\n",
       "      <td>7997025</td>\n",
       "      <td>360-1</td>\n",
       "      <td>33.457724</td>\n",
       "      <td>126.554014</td>\n",
       "      <td>제대마을</td>\n",
       "      <td>06시</td>\n",
       "      <td>333.0</td>\n",
       "      <td>제대아파트</td>\n",
       "      <td>33.458783</td>\n",
       "      <td>126.557353</td>\n",
       "      <td>36</td>\n",
       "    </tr>\n",
       "  </tbody>\n",
       "</table>\n",
       "</div>"
      ],
      "text/plain": [
       "          date   route_id    vh_id route_nm  now_latitude  now_longitude  \\\n",
       "id                                                                         \n",
       "0   2019-10-15  405136001  7997025    360-1     33.456267     126.551750   \n",
       "1   2019-10-15  405136001  7997025    360-1     33.457724     126.554014   \n",
       "\n",
       "   now_station now_arrive_time  distance next_station  next_latitude  \\\n",
       "id                                                                     \n",
       "0      제주대학교입구             06시     266.0         제대마을      33.457724   \n",
       "1         제대마을             06시     333.0        제대아파트      33.458783   \n",
       "\n",
       "    next_longitude  next_arrive_time  \n",
       "id                                    \n",
       "0       126.554014                24  \n",
       "1       126.557353                36  "
      ]
     },
     "metadata": {},
     "output_type": "display_data"
    }
   ],
   "source": [
    "display(test.head(2))\n",
    "display(train.head(2))"
   ]
  },
  {
   "cell_type": "code",
   "execution_count": 17,
   "id": "a6afacb5",
   "metadata": {},
   "outputs": [
    {
     "name": "stdout",
     "output_type": "stream",
     "text": [
      "(91774, 2)\n"
     ]
    },
    {
     "data": {
      "text/html": [
       "<div>\n",
       "<style scoped>\n",
       "    .dataframe tbody tr th:only-of-type {\n",
       "        vertical-align: middle;\n",
       "    }\n",
       "\n",
       "    .dataframe tbody tr th {\n",
       "        vertical-align: top;\n",
       "    }\n",
       "\n",
       "    .dataframe thead th {\n",
       "        text-align: right;\n",
       "    }\n",
       "</style>\n",
       "<table border=\"1\" class=\"dataframe\">\n",
       "  <thead>\n",
       "    <tr style=\"text-align: right;\">\n",
       "      <th></th>\n",
       "      <th>id</th>\n",
       "      <th>next_arrive_time</th>\n",
       "    </tr>\n",
       "  </thead>\n",
       "  <tbody>\n",
       "    <tr>\n",
       "      <th>0</th>\n",
       "      <td>210457</td>\n",
       "      <td>0</td>\n",
       "    </tr>\n",
       "    <tr>\n",
       "      <th>1</th>\n",
       "      <td>210458</td>\n",
       "      <td>0</td>\n",
       "    </tr>\n",
       "  </tbody>\n",
       "</table>\n",
       "</div>"
      ],
      "text/plain": [
       "       id  next_arrive_time\n",
       "0  210457                 0\n",
       "1  210458                 0"
      ]
     },
     "execution_count": 17,
     "metadata": {},
     "output_type": "execute_result"
    }
   ],
   "source": [
    "sub = pd.read_csv('data/submission_제출양식.csv')\n",
    "print(sub.shape)\n",
    "sub.head(2)"
   ]
  },
  {
   "cell_type": "code",
   "execution_count": 18,
   "id": "0b7c22dd",
   "metadata": {},
   "outputs": [
    {
     "name": "stdout",
     "output_type": "stream",
     "text": [
      "<class 'pandas.core.frame.DataFrame'>\n",
      "Int64Index: 210457 entries, 0 to 210456\n",
      "Data columns (total 13 columns):\n",
      " #   Column            Non-Null Count   Dtype  \n",
      "---  ------            --------------   -----  \n",
      " 0   date              210457 non-null  object \n",
      " 1   route_id          210457 non-null  int64  \n",
      " 2   vh_id             210457 non-null  int64  \n",
      " 3   route_nm          210457 non-null  object \n",
      " 4   now_latitude      210457 non-null  float64\n",
      " 5   now_longitude     210457 non-null  float64\n",
      " 6   now_station       210457 non-null  object \n",
      " 7   now_arrive_time   210457 non-null  object \n",
      " 8   distance          210457 non-null  float64\n",
      " 9   next_station      210457 non-null  object \n",
      " 10  next_latitude     210457 non-null  float64\n",
      " 11  next_longitude    210457 non-null  float64\n",
      " 12  next_arrive_time  210457 non-null  int64  \n",
      "dtypes: float64(5), int64(3), object(5)\n",
      "memory usage: 22.5+ MB\n"
     ]
    }
   ],
   "source": [
    "train.info()"
   ]
  },
  {
   "cell_type": "code",
   "execution_count": 19,
   "id": "41b2a5ec",
   "metadata": {},
   "outputs": [],
   "source": [
    "train['date'] = pd.to_datetime(train['date'])"
   ]
  },
  {
   "cell_type": "code",
   "execution_count": 20,
   "id": "f1abe637",
   "metadata": {},
   "outputs": [
    {
     "name": "stdout",
     "output_type": "stream",
     "text": [
      "<class 'pandas.core.frame.DataFrame'>\n",
      "Int64Index: 91774 entries, 210457 to 302354\n",
      "Data columns (total 12 columns):\n",
      " #   Column           Non-Null Count  Dtype  \n",
      "---  ------           --------------  -----  \n",
      " 0   date             91774 non-null  object \n",
      " 1   route_id         91774 non-null  int64  \n",
      " 2   vh_id            91774 non-null  int64  \n",
      " 3   route_nm         91774 non-null  object \n",
      " 4   now_latitude     91774 non-null  float64\n",
      " 5   now_longitude    91774 non-null  float64\n",
      " 6   now_station      91774 non-null  object \n",
      " 7   now_arrive_time  91774 non-null  object \n",
      " 8   distance         91774 non-null  float64\n",
      " 9   next_station     91774 non-null  object \n",
      " 10  next_latitude    91774 non-null  float64\n",
      " 11  next_longitude   91774 non-null  float64\n",
      "dtypes: float64(5), int64(2), object(5)\n",
      "memory usage: 9.1+ MB\n"
     ]
    }
   ],
   "source": [
    "test.info()"
   ]
  },
  {
   "cell_type": "code",
   "execution_count": 21,
   "id": "5ef64e20",
   "metadata": {},
   "outputs": [],
   "source": [
    "test['date'] = pd.to_datetime(test['date'])"
   ]
  },
  {
   "cell_type": "code",
   "execution_count": 22,
   "id": "d85904d3",
   "metadata": {},
   "outputs": [],
   "source": [
    "train['now_arrive_time'] = train['now_arrive_time'].map(lambda x : x[:-1])\n",
    "test['now_arrive_time'] = test['now_arrive_time'].map(lambda x : x[:-1])\n",
    "\n",
    "train['now_arrive_time'] = pd.to_numeric(train['now_arrive_time'], downcast='unsigned')\n",
    "test['now_arrive_time'] = pd.to_numeric(test['now_arrive_time'], downcast='unsigned')"
   ]
  },
  {
   "cell_type": "code",
   "execution_count": 23,
   "id": "dabea03b",
   "metadata": {},
   "outputs": [
    {
     "data": {
      "text/plain": [
       "(date                datetime64[ns]\n",
       " route_id                     int64\n",
       " vh_id                        int64\n",
       " route_nm                    object\n",
       " now_latitude               float64\n",
       " now_longitude              float64\n",
       " now_station                 object\n",
       " now_arrive_time              uint8\n",
       " distance                   float64\n",
       " next_station                object\n",
       " next_latitude              float64\n",
       " next_longitude             float64\n",
       " next_arrive_time             int64\n",
       " dtype: object,\n",
       " date               datetime64[ns]\n",
       " route_id                    int64\n",
       " vh_id                       int64\n",
       " route_nm                   object\n",
       " now_latitude              float64\n",
       " now_longitude             float64\n",
       " now_station                object\n",
       " now_arrive_time             uint8\n",
       " distance                  float64\n",
       " next_station               object\n",
       " next_latitude             float64\n",
       " next_longitude            float64\n",
       " dtype: object)"
      ]
     },
     "execution_count": 23,
     "metadata": {},
     "output_type": "execute_result"
    }
   ],
   "source": [
    "train.dtypes, test.dtypes"
   ]
  },
  {
   "cell_type": "code",
   "execution_count": 24,
   "id": "0e0b8350",
   "metadata": {},
   "outputs": [
    {
     "data": {
      "text/html": [
       "<div>\n",
       "<style scoped>\n",
       "    .dataframe tbody tr th:only-of-type {\n",
       "        vertical-align: middle;\n",
       "    }\n",
       "\n",
       "    .dataframe tbody tr th {\n",
       "        vertical-align: top;\n",
       "    }\n",
       "\n",
       "    .dataframe thead th {\n",
       "        text-align: right;\n",
       "    }\n",
       "</style>\n",
       "<table border=\"1\" class=\"dataframe\">\n",
       "  <thead>\n",
       "    <tr style=\"text-align: right;\">\n",
       "      <th></th>\n",
       "      <th>route_id</th>\n",
       "      <th>vh_id</th>\n",
       "      <th>now_latitude</th>\n",
       "      <th>now_longitude</th>\n",
       "      <th>now_arrive_time</th>\n",
       "      <th>distance</th>\n",
       "      <th>next_latitude</th>\n",
       "      <th>next_longitude</th>\n",
       "      <th>next_arrive_time</th>\n",
       "    </tr>\n",
       "  </thead>\n",
       "  <tbody>\n",
       "    <tr>\n",
       "      <th>count</th>\n",
       "      <td>2.104570e+05</td>\n",
       "      <td>2.104570e+05</td>\n",
       "      <td>210457.000000</td>\n",
       "      <td>210457.000000</td>\n",
       "      <td>210457.000000</td>\n",
       "      <td>210457.000000</td>\n",
       "      <td>210457.000000</td>\n",
       "      <td>210457.000000</td>\n",
       "      <td>210457.000000</td>\n",
       "    </tr>\n",
       "    <tr>\n",
       "      <th>mean</th>\n",
       "      <td>4.052491e+08</td>\n",
       "      <td>7.988694e+06</td>\n",
       "      <td>33.434528</td>\n",
       "      <td>126.603451</td>\n",
       "      <td>13.785990</td>\n",
       "      <td>490.256100</td>\n",
       "      <td>33.434711</td>\n",
       "      <td>126.603687</td>\n",
       "      <td>85.380824</td>\n",
       "    </tr>\n",
       "    <tr>\n",
       "      <th>std</th>\n",
       "      <td>9.132404e+04</td>\n",
       "      <td>6.774077e+03</td>\n",
       "      <td>0.102350</td>\n",
       "      <td>0.123961</td>\n",
       "      <td>4.682768</td>\n",
       "      <td>520.563932</td>\n",
       "      <td>0.102224</td>\n",
       "      <td>0.123838</td>\n",
       "      <td>85.051170</td>\n",
       "    </tr>\n",
       "    <tr>\n",
       "      <th>min</th>\n",
       "      <td>4.051360e+08</td>\n",
       "      <td>7.983000e+06</td>\n",
       "      <td>33.244382</td>\n",
       "      <td>126.473300</td>\n",
       "      <td>0.000000</td>\n",
       "      <td>97.000000</td>\n",
       "      <td>33.244382</td>\n",
       "      <td>126.473300</td>\n",
       "      <td>6.000000</td>\n",
       "    </tr>\n",
       "    <tr>\n",
       "      <th>25%</th>\n",
       "      <td>4.051365e+08</td>\n",
       "      <td>7.983093e+06</td>\n",
       "      <td>33.325283</td>\n",
       "      <td>126.523900</td>\n",
       "      <td>10.000000</td>\n",
       "      <td>291.000000</td>\n",
       "      <td>33.325283</td>\n",
       "      <td>126.524550</td>\n",
       "      <td>44.000000</td>\n",
       "    </tr>\n",
       "    <tr>\n",
       "      <th>50%</th>\n",
       "      <td>4.053201e+08</td>\n",
       "      <td>7.983431e+06</td>\n",
       "      <td>33.484667</td>\n",
       "      <td>126.551050</td>\n",
       "      <td>14.000000</td>\n",
       "      <td>384.000000</td>\n",
       "      <td>33.484860</td>\n",
       "      <td>126.551050</td>\n",
       "      <td>66.000000</td>\n",
       "    </tr>\n",
       "    <tr>\n",
       "      <th>75%</th>\n",
       "      <td>4.053201e+08</td>\n",
       "      <td>7.997041e+06</td>\n",
       "      <td>33.500197</td>\n",
       "      <td>126.650322</td>\n",
       "      <td>18.000000</td>\n",
       "      <td>542.000000</td>\n",
       "      <td>33.500228</td>\n",
       "      <td>126.650322</td>\n",
       "      <td>102.000000</td>\n",
       "    </tr>\n",
       "    <tr>\n",
       "      <th>max</th>\n",
       "      <td>4.053281e+08</td>\n",
       "      <td>7.997124e+06</td>\n",
       "      <td>33.556167</td>\n",
       "      <td>126.935188</td>\n",
       "      <td>23.000000</td>\n",
       "      <td>7461.000000</td>\n",
       "      <td>33.556167</td>\n",
       "      <td>126.935188</td>\n",
       "      <td>2996.000000</td>\n",
       "    </tr>\n",
       "  </tbody>\n",
       "</table>\n",
       "</div>"
      ],
      "text/plain": [
       "           route_id         vh_id   now_latitude  now_longitude  \\\n",
       "count  2.104570e+05  2.104570e+05  210457.000000  210457.000000   \n",
       "mean   4.052491e+08  7.988694e+06      33.434528     126.603451   \n",
       "std    9.132404e+04  6.774077e+03       0.102350       0.123961   \n",
       "min    4.051360e+08  7.983000e+06      33.244382     126.473300   \n",
       "25%    4.051365e+08  7.983093e+06      33.325283     126.523900   \n",
       "50%    4.053201e+08  7.983431e+06      33.484667     126.551050   \n",
       "75%    4.053201e+08  7.997041e+06      33.500197     126.650322   \n",
       "max    4.053281e+08  7.997124e+06      33.556167     126.935188   \n",
       "\n",
       "       now_arrive_time       distance  next_latitude  next_longitude  \\\n",
       "count    210457.000000  210457.000000  210457.000000   210457.000000   \n",
       "mean         13.785990     490.256100      33.434711      126.603687   \n",
       "std           4.682768     520.563932       0.102224        0.123838   \n",
       "min           0.000000      97.000000      33.244382      126.473300   \n",
       "25%          10.000000     291.000000      33.325283      126.524550   \n",
       "50%          14.000000     384.000000      33.484860      126.551050   \n",
       "75%          18.000000     542.000000      33.500228      126.650322   \n",
       "max          23.000000    7461.000000      33.556167      126.935188   \n",
       "\n",
       "       next_arrive_time  \n",
       "count     210457.000000  \n",
       "mean          85.380824  \n",
       "std           85.051170  \n",
       "min            6.000000  \n",
       "25%           44.000000  \n",
       "50%           66.000000  \n",
       "75%          102.000000  \n",
       "max         2996.000000  "
      ]
     },
     "execution_count": 24,
     "metadata": {},
     "output_type": "execute_result"
    }
   ],
   "source": [
    "train.describe()"
   ]
  },
  {
   "cell_type": "code",
   "execution_count": 25,
   "id": "46fcb196",
   "metadata": {},
   "outputs": [
    {
     "data": {
      "image/png": "[encoded data removed]",
      "text/plain": [
       "<Figure size 864x720 with 12 Axes>"
      ]
     },
     "metadata": {
      "needs_background": "light"
     },
     "output_type": "display_data"
    }
   ],
   "source": [
    "train.hist(bins=100, figsize=(12,10));"
   ]
  },
  {
   "cell_type": "code",
   "execution_count": 26,
   "id": "5055092a",
   "metadata": {},
   "outputs": [
    {
     "data": {
      "text/plain": [
       "count    210457.000000\n",
       "mean         85.380824\n",
       "std          85.051170\n",
       "min           6.000000\n",
       "25%          44.000000\n",
       "50%          66.000000\n",
       "75%         102.000000\n",
       "max        2996.000000\n",
       "Name: next_arrive_time, dtype: float64"
      ]
     },
     "execution_count": 26,
     "metadata": {},
     "output_type": "execute_result"
    }
   ],
   "source": [
    "train['next_arrive_time'].describe()"
   ]
  },
  {
   "cell_type": "code",
   "execution_count": 27,
   "id": "5b523d79",
   "metadata": {},
   "outputs": [
    {
     "data": {
      "text/plain": [
       "<matplotlib.lines.Line2D at 0x2082cb62970>"
      ]
     },
     "execution_count": 27,
     "metadata": {},
     "output_type": "execute_result"
    },
    {
     "data": {
      "image/png": "[encoded data removed]",
      "text/plain": [
       "<Figure size 432x288 with 1 Axes>"
      ]
     },
     "metadata": {
      "needs_background": "light"
     },
     "output_type": "display_data"
    }
   ],
   "source": [
    "sns.scatterplot(data=train, x=train.index, y=\"next_arrive_time\")\n",
    "plt.axhline(1000, c=\"k\", ls=\":\")"
   ]
  },
  {
   "cell_type": "code",
   "execution_count": 28,
   "id": "b7b5539b",
   "metadata": {},
   "outputs": [
    {
     "data": {
      "text/html": [
       "<div>\n",
       "<style scoped>\n",
       "    .dataframe tbody tr th:only-of-type {\n",
       "        vertical-align: middle;\n",
       "    }\n",
       "\n",
       "    .dataframe tbody tr th {\n",
       "        vertical-align: top;\n",
       "    }\n",
       "\n",
       "    .dataframe thead th {\n",
       "        text-align: right;\n",
       "    }\n",
       "</style>\n",
       "<table border=\"1\" class=\"dataframe\">\n",
       "  <thead>\n",
       "    <tr style=\"text-align: right;\">\n",
       "      <th></th>\n",
       "      <th>date</th>\n",
       "      <th>route_id</th>\n",
       "      <th>vh_id</th>\n",
       "      <th>route_nm</th>\n",
       "      <th>now_latitude</th>\n",
       "      <th>now_longitude</th>\n",
       "      <th>now_station</th>\n",
       "      <th>now_arrive_time</th>\n",
       "      <th>distance</th>\n",
       "      <th>next_station</th>\n",
       "      <th>next_latitude</th>\n",
       "      <th>next_longitude</th>\n",
       "      <th>next_arrive_time</th>\n",
       "    </tr>\n",
       "    <tr>\n",
       "      <th>id</th>\n",
       "      <th></th>\n",
       "      <th></th>\n",
       "      <th></th>\n",
       "      <th></th>\n",
       "      <th></th>\n",
       "      <th></th>\n",
       "      <th></th>\n",
       "      <th></th>\n",
       "      <th></th>\n",
       "      <th></th>\n",
       "      <th></th>\n",
       "      <th></th>\n",
       "      <th></th>\n",
       "    </tr>\n",
       "  </thead>\n",
       "  <tbody>\n",
       "    <tr>\n",
       "      <th>0</th>\n",
       "      <td>2019-10-15</td>\n",
       "      <td>405136001</td>\n",
       "      <td>7997025</td>\n",
       "      <td>360-1</td>\n",
       "      <td>33.456267</td>\n",
       "      <td>126.551750</td>\n",
       "      <td>제주대학교입구</td>\n",
       "      <td>6</td>\n",
       "      <td>266.0</td>\n",
       "      <td>제대마을</td>\n",
       "      <td>33.457724</td>\n",
       "      <td>126.554014</td>\n",
       "      <td>24</td>\n",
       "    </tr>\n",
       "    <tr>\n",
       "      <th>1</th>\n",
       "      <td>2019-10-15</td>\n",
       "      <td>405136001</td>\n",
       "      <td>7997025</td>\n",
       "      <td>360-1</td>\n",
       "      <td>33.457724</td>\n",
       "      <td>126.554014</td>\n",
       "      <td>제대마을</td>\n",
       "      <td>6</td>\n",
       "      <td>333.0</td>\n",
       "      <td>제대아파트</td>\n",
       "      <td>33.458783</td>\n",
       "      <td>126.557353</td>\n",
       "      <td>36</td>\n",
       "    </tr>\n",
       "    <tr>\n",
       "      <th>2</th>\n",
       "      <td>2019-10-15</td>\n",
       "      <td>405136001</td>\n",
       "      <td>7997025</td>\n",
       "      <td>360-1</td>\n",
       "      <td>33.458783</td>\n",
       "      <td>126.557353</td>\n",
       "      <td>제대아파트</td>\n",
       "      <td>6</td>\n",
       "      <td>415.0</td>\n",
       "      <td>제주대학교</td>\n",
       "      <td>33.459893</td>\n",
       "      <td>126.561624</td>\n",
       "      <td>40</td>\n",
       "    </tr>\n",
       "    <tr>\n",
       "      <th>3</th>\n",
       "      <td>2019-10-15</td>\n",
       "      <td>405136001</td>\n",
       "      <td>7997025</td>\n",
       "      <td>360-1</td>\n",
       "      <td>33.479705</td>\n",
       "      <td>126.543811</td>\n",
       "      <td>남국원(아라방면)</td>\n",
       "      <td>6</td>\n",
       "      <td>578.0</td>\n",
       "      <td>제주여자중고등학교(아라방면)</td>\n",
       "      <td>33.484860</td>\n",
       "      <td>126.542928</td>\n",
       "      <td>42</td>\n",
       "    </tr>\n",
       "    <tr>\n",
       "      <th>4</th>\n",
       "      <td>2019-10-15</td>\n",
       "      <td>405136001</td>\n",
       "      <td>7997025</td>\n",
       "      <td>360-1</td>\n",
       "      <td>33.485662</td>\n",
       "      <td>126.494923</td>\n",
       "      <td>도호동</td>\n",
       "      <td>7</td>\n",
       "      <td>374.0</td>\n",
       "      <td>은남동</td>\n",
       "      <td>33.485822</td>\n",
       "      <td>126.490897</td>\n",
       "      <td>64</td>\n",
       "    </tr>\n",
       "    <tr>\n",
       "      <th>...</th>\n",
       "      <td>...</td>\n",
       "      <td>...</td>\n",
       "      <td>...</td>\n",
       "      <td>...</td>\n",
       "      <td>...</td>\n",
       "      <td>...</td>\n",
       "      <td>...</td>\n",
       "      <td>...</td>\n",
       "      <td>...</td>\n",
       "      <td>...</td>\n",
       "      <td>...</td>\n",
       "      <td>...</td>\n",
       "      <td>...</td>\n",
       "    </tr>\n",
       "    <tr>\n",
       "      <th>210452</th>\n",
       "      <td>2019-10-28</td>\n",
       "      <td>405328102</td>\n",
       "      <td>7983486</td>\n",
       "      <td>281-2</td>\n",
       "      <td>33.255783</td>\n",
       "      <td>126.577450</td>\n",
       "      <td>비석거리</td>\n",
       "      <td>21</td>\n",
       "      <td>528.0</td>\n",
       "      <td>삼아아파트</td>\n",
       "      <td>33.251896</td>\n",
       "      <td>126.574417</td>\n",
       "      <td>96</td>\n",
       "    </tr>\n",
       "    <tr>\n",
       "      <th>210453</th>\n",
       "      <td>2019-10-28</td>\n",
       "      <td>405328102</td>\n",
       "      <td>7983486</td>\n",
       "      <td>281-2</td>\n",
       "      <td>33.248595</td>\n",
       "      <td>126.568527</td>\n",
       "      <td>동문로터리</td>\n",
       "      <td>21</td>\n",
       "      <td>280.0</td>\n",
       "      <td>매일올레시장 7번입구</td>\n",
       "      <td>33.249753</td>\n",
       "      <td>126.565959</td>\n",
       "      <td>50</td>\n",
       "    </tr>\n",
       "    <tr>\n",
       "      <th>210454</th>\n",
       "      <td>2019-10-28</td>\n",
       "      <td>405328102</td>\n",
       "      <td>7983486</td>\n",
       "      <td>281-2</td>\n",
       "      <td>33.251891</td>\n",
       "      <td>126.560303</td>\n",
       "      <td>서귀포시 구 버스터미널</td>\n",
       "      <td>21</td>\n",
       "      <td>114.0</td>\n",
       "      <td>아랑조을거리 입구</td>\n",
       "      <td>33.251084</td>\n",
       "      <td>126.559551</td>\n",
       "      <td>16</td>\n",
       "    </tr>\n",
       "    <tr>\n",
       "      <th>210455</th>\n",
       "      <td>2019-10-28</td>\n",
       "      <td>405328102</td>\n",
       "      <td>7983486</td>\n",
       "      <td>281-2</td>\n",
       "      <td>33.251084</td>\n",
       "      <td>126.559551</td>\n",
       "      <td>아랑조을거리 입구</td>\n",
       "      <td>21</td>\n",
       "      <td>223.0</td>\n",
       "      <td>평생학습관</td>\n",
       "      <td>33.249504</td>\n",
       "      <td>126.558068</td>\n",
       "      <td>38</td>\n",
       "    </tr>\n",
       "    <tr>\n",
       "      <th>210456</th>\n",
       "      <td>2019-10-28</td>\n",
       "      <td>405328102</td>\n",
       "      <td>7983486</td>\n",
       "      <td>281-2</td>\n",
       "      <td>33.248487</td>\n",
       "      <td>126.511195</td>\n",
       "      <td>대륜동주민센터</td>\n",
       "      <td>21</td>\n",
       "      <td>189.0</td>\n",
       "      <td>서귀포버스터미널(가상정류소)</td>\n",
       "      <td>33.249091</td>\n",
       "      <td>126.509224</td>\n",
       "      <td>24</td>\n",
       "    </tr>\n",
       "  </tbody>\n",
       "</table>\n",
       "<p>210257 rows × 13 columns</p>\n",
       "</div>"
      ],
      "text/plain": [
       "             date   route_id    vh_id route_nm  now_latitude  now_longitude  \\\n",
       "id                                                                            \n",
       "0      2019-10-15  405136001  7997025    360-1     33.456267     126.551750   \n",
       "1      2019-10-15  405136001  7997025    360-1     33.457724     126.554014   \n",
       "2      2019-10-15  405136001  7997025    360-1     33.458783     126.557353   \n",
       "3      2019-10-15  405136001  7997025    360-1     33.479705     126.543811   \n",
       "4      2019-10-15  405136001  7997025    360-1     33.485662     126.494923   \n",
       "...           ...        ...      ...      ...           ...            ...   \n",
       "210452 2019-10-28  405328102  7983486    281-2     33.255783     126.577450   \n",
       "210453 2019-10-28  405328102  7983486    281-2     33.248595     126.568527   \n",
       "210454 2019-10-28  405328102  7983486    281-2     33.251891     126.560303   \n",
       "210455 2019-10-28  405328102  7983486    281-2     33.251084     126.559551   \n",
       "210456 2019-10-28  405328102  7983486    281-2     33.248487     126.511195   \n",
       "\n",
       "         now_station  now_arrive_time  distance     next_station  \\\n",
       "id                                                                 \n",
       "0            제주대학교입구                6     266.0             제대마을   \n",
       "1               제대마을                6     333.0            제대아파트   \n",
       "2              제대아파트                6     415.0            제주대학교   \n",
       "3          남국원(아라방면)                6     578.0  제주여자중고등학교(아라방면)   \n",
       "4                도호동                7     374.0              은남동   \n",
       "...              ...              ...       ...              ...   \n",
       "210452          비석거리               21     528.0            삼아아파트   \n",
       "210453         동문로터리               21     280.0      매일올레시장 7번입구   \n",
       "210454  서귀포시 구 버스터미널               21     114.0        아랑조을거리 입구   \n",
       "210455     아랑조을거리 입구               21     223.0            평생학습관   \n",
       "210456       대륜동주민센터               21     189.0  서귀포버스터미널(가상정류소)   \n",
       "\n",
       "        next_latitude  next_longitude  next_arrive_time  \n",
       "id                                                       \n",
       "0           33.457724      126.554014                24  \n",
       "1           33.458783      126.557353                36  \n",
       "2           33.459893      126.561624                40  \n",
       "3           33.484860      126.542928                42  \n",
       "4           33.485822      126.490897                64  \n",
       "...               ...             ...               ...  \n",
       "210452      33.251896      126.574417                96  \n",
       "210453      33.249753      126.565959                50  \n",
       "210454      33.251084      126.559551                16  \n",
       "210455      33.249504      126.558068                38  \n",
       "210456      33.249091      126.509224                24  \n",
       "\n",
       "[210257 rows x 13 columns]"
      ]
     },
     "execution_count": 28,
     "metadata": {},
     "output_type": "execute_result"
    }
   ],
   "source": [
    "train = train[train['next_arrive_time'] <= 1000]\n",
    "train"
   ]
  },
  {
   "cell_type": "code",
   "execution_count": 29,
   "id": "49e8338f",
   "metadata": {},
   "outputs": [
    {
     "name": "stdout",
     "output_type": "stream",
     "text": [
      "351\n"
     ]
    },
    {
     "data": {
      "text/html": [
       "<div>\n",
       "<style scoped>\n",
       "    .dataframe tbody tr th:only-of-type {\n",
       "        vertical-align: middle;\n",
       "    }\n",
       "\n",
       "    .dataframe tbody tr th {\n",
       "        vertical-align: top;\n",
       "    }\n",
       "\n",
       "    .dataframe thead th {\n",
       "        text-align: right;\n",
       "    }\n",
       "</style>\n",
       "<table border=\"1\" class=\"dataframe\">\n",
       "  <thead>\n",
       "    <tr style=\"text-align: right;\">\n",
       "      <th></th>\n",
       "      <th>date</th>\n",
       "      <th>route_id</th>\n",
       "      <th>vh_id</th>\n",
       "      <th>route_nm</th>\n",
       "      <th>now_latitude</th>\n",
       "      <th>now_longitude</th>\n",
       "      <th>now_station</th>\n",
       "      <th>now_arrive_time</th>\n",
       "      <th>distance</th>\n",
       "      <th>next_station</th>\n",
       "      <th>next_latitude</th>\n",
       "      <th>next_longitude</th>\n",
       "      <th>next_arrive_time</th>\n",
       "    </tr>\n",
       "    <tr>\n",
       "      <th>id</th>\n",
       "      <th></th>\n",
       "      <th></th>\n",
       "      <th></th>\n",
       "      <th></th>\n",
       "      <th></th>\n",
       "      <th></th>\n",
       "      <th></th>\n",
       "      <th></th>\n",
       "      <th></th>\n",
       "      <th></th>\n",
       "      <th></th>\n",
       "      <th></th>\n",
       "      <th></th>\n",
       "    </tr>\n",
       "  </thead>\n",
       "  <tbody>\n",
       "    <tr>\n",
       "      <th>0</th>\n",
       "      <td>2019-10-15</td>\n",
       "      <td>405136001</td>\n",
       "      <td>7997025</td>\n",
       "      <td>360-1</td>\n",
       "      <td>33.456267</td>\n",
       "      <td>126.551750</td>\n",
       "      <td>239</td>\n",
       "      <td>6</td>\n",
       "      <td>266.0</td>\n",
       "      <td>227</td>\n",
       "      <td>33.457724</td>\n",
       "      <td>126.554014</td>\n",
       "      <td>24</td>\n",
       "    </tr>\n",
       "    <tr>\n",
       "      <th>1</th>\n",
       "      <td>2019-10-15</td>\n",
       "      <td>405136001</td>\n",
       "      <td>7997025</td>\n",
       "      <td>360-1</td>\n",
       "      <td>33.457724</td>\n",
       "      <td>126.554014</td>\n",
       "      <td>227</td>\n",
       "      <td>6</td>\n",
       "      <td>333.0</td>\n",
       "      <td>228</td>\n",
       "      <td>33.458783</td>\n",
       "      <td>126.557353</td>\n",
       "      <td>36</td>\n",
       "    </tr>\n",
       "    <tr>\n",
       "      <th>2</th>\n",
       "      <td>2019-10-15</td>\n",
       "      <td>405136001</td>\n",
       "      <td>7997025</td>\n",
       "      <td>360-1</td>\n",
       "      <td>33.458783</td>\n",
       "      <td>126.557353</td>\n",
       "      <td>228</td>\n",
       "      <td>6</td>\n",
       "      <td>415.0</td>\n",
       "      <td>235</td>\n",
       "      <td>33.459893</td>\n",
       "      <td>126.561624</td>\n",
       "      <td>40</td>\n",
       "    </tr>\n",
       "    <tr>\n",
       "      <th>3</th>\n",
       "      <td>2019-10-15</td>\n",
       "      <td>405136001</td>\n",
       "      <td>7997025</td>\n",
       "      <td>360-1</td>\n",
       "      <td>33.479705</td>\n",
       "      <td>126.543811</td>\n",
       "      <td>41</td>\n",
       "      <td>6</td>\n",
       "      <td>578.0</td>\n",
       "      <td>249</td>\n",
       "      <td>33.484860</td>\n",
       "      <td>126.542928</td>\n",
       "      <td>42</td>\n",
       "    </tr>\n",
       "    <tr>\n",
       "      <th>4</th>\n",
       "      <td>2019-10-15</td>\n",
       "      <td>405136001</td>\n",
       "      <td>7997025</td>\n",
       "      <td>360-1</td>\n",
       "      <td>33.485662</td>\n",
       "      <td>126.494923</td>\n",
       "      <td>63</td>\n",
       "      <td>7</td>\n",
       "      <td>374.0</td>\n",
       "      <td>221</td>\n",
       "      <td>33.485822</td>\n",
       "      <td>126.490897</td>\n",
       "      <td>64</td>\n",
       "    </tr>\n",
       "  </tbody>\n",
       "</table>\n",
       "</div>"
      ],
      "text/plain": [
       "         date   route_id    vh_id route_nm  now_latitude  now_longitude  \\\n",
       "id                                                                        \n",
       "0  2019-10-15  405136001  7997025    360-1     33.456267     126.551750   \n",
       "1  2019-10-15  405136001  7997025    360-1     33.457724     126.554014   \n",
       "2  2019-10-15  405136001  7997025    360-1     33.458783     126.557353   \n",
       "3  2019-10-15  405136001  7997025    360-1     33.479705     126.543811   \n",
       "4  2019-10-15  405136001  7997025    360-1     33.485662     126.494923   \n",
       "\n",
       "    now_station  now_arrive_time  distance  next_station  next_latitude  \\\n",
       "id                                                                        \n",
       "0           239                6     266.0           227      33.457724   \n",
       "1           227                6     333.0           228      33.458783   \n",
       "2           228                6     415.0           235      33.459893   \n",
       "3            41                6     578.0           249      33.484860   \n",
       "4            63                7     374.0           221      33.485822   \n",
       "\n",
       "    next_longitude  next_arrive_time  \n",
       "id                                    \n",
       "0       126.554014                24  \n",
       "1       126.557353                36  \n",
       "2       126.561624                40  \n",
       "3       126.542928                42  \n",
       "4       126.490897                64  "
      ]
     },
     "execution_count": 29,
     "metadata": {},
     "output_type": "execute_result"
    }
   ],
   "source": [
    "station_encoder = LabelEncoder()\n",
    "\n",
    "all_station = list(train['now_station'].values) + list(train['next_station'].values)\n",
    "station_set = set(all_station)\n",
    "print(len(station_set))\n",
    "station_encoder.fit(list(station_set))\n",
    "\n",
    "train['now_station'] = station_encoder.transform(train['now_station'])\n",
    "train['next_station'] = station_encoder.transform(train['next_station'])\n",
    "test['now_station'] = station_encoder.transform(test['now_station'])\n",
    "test['next_station'] = station_encoder.transform(test['next_station'])\n",
    "train.head()"
   ]
  },
  {
   "cell_type": "code",
   "execution_count": 30,
   "id": "cc294c32",
   "metadata": {},
   "outputs": [
    {
     "data": {
      "text/html": [
       "<div>\n",
       "<style scoped>\n",
       "    .dataframe tbody tr th:only-of-type {\n",
       "        vertical-align: middle;\n",
       "    }\n",
       "\n",
       "    .dataframe tbody tr th {\n",
       "        vertical-align: top;\n",
       "    }\n",
       "\n",
       "    .dataframe thead th {\n",
       "        text-align: right;\n",
       "    }\n",
       "</style>\n",
       "<table border=\"1\" class=\"dataframe\">\n",
       "  <thead>\n",
       "    <tr style=\"text-align: right;\">\n",
       "      <th></th>\n",
       "      <th>date</th>\n",
       "      <th>route_id</th>\n",
       "      <th>vh_id</th>\n",
       "      <th>route_nm</th>\n",
       "      <th>now_latitude</th>\n",
       "      <th>now_longitude</th>\n",
       "      <th>now_station</th>\n",
       "      <th>now_arrive_time</th>\n",
       "      <th>distance</th>\n",
       "      <th>next_station</th>\n",
       "      <th>next_latitude</th>\n",
       "      <th>next_longitude</th>\n",
       "      <th>next_arrive_time</th>\n",
       "      <th>weekday_0</th>\n",
       "      <th>weekday_1</th>\n",
       "    </tr>\n",
       "    <tr>\n",
       "      <th>id</th>\n",
       "      <th></th>\n",
       "      <th></th>\n",
       "      <th></th>\n",
       "      <th></th>\n",
       "      <th></th>\n",
       "      <th></th>\n",
       "      <th></th>\n",
       "      <th></th>\n",
       "      <th></th>\n",
       "      <th></th>\n",
       "      <th></th>\n",
       "      <th></th>\n",
       "      <th></th>\n",
       "      <th></th>\n",
       "      <th></th>\n",
       "    </tr>\n",
       "  </thead>\n",
       "  <tbody>\n",
       "    <tr>\n",
       "      <th>0</th>\n",
       "      <td>2019-10-15</td>\n",
       "      <td>405136001</td>\n",
       "      <td>7997025</td>\n",
       "      <td>360-1</td>\n",
       "      <td>33.456267</td>\n",
       "      <td>126.551750</td>\n",
       "      <td>239</td>\n",
       "      <td>6</td>\n",
       "      <td>266.0</td>\n",
       "      <td>227</td>\n",
       "      <td>33.457724</td>\n",
       "      <td>126.554014</td>\n",
       "      <td>24</td>\n",
       "      <td>1</td>\n",
       "      <td>0</td>\n",
       "    </tr>\n",
       "    <tr>\n",
       "      <th>1</th>\n",
       "      <td>2019-10-15</td>\n",
       "      <td>405136001</td>\n",
       "      <td>7997025</td>\n",
       "      <td>360-1</td>\n",
       "      <td>33.457724</td>\n",
       "      <td>126.554014</td>\n",
       "      <td>227</td>\n",
       "      <td>6</td>\n",
       "      <td>333.0</td>\n",
       "      <td>228</td>\n",
       "      <td>33.458783</td>\n",
       "      <td>126.557353</td>\n",
       "      <td>36</td>\n",
       "      <td>1</td>\n",
       "      <td>0</td>\n",
       "    </tr>\n",
       "  </tbody>\n",
       "</table>\n",
       "</div>"
      ],
      "text/plain": [
       "         date   route_id    vh_id route_nm  now_latitude  now_longitude  \\\n",
       "id                                                                        \n",
       "0  2019-10-15  405136001  7997025    360-1     33.456267     126.551750   \n",
       "1  2019-10-15  405136001  7997025    360-1     33.457724     126.554014   \n",
       "\n",
       "    now_station  now_arrive_time  distance  next_station  next_latitude  \\\n",
       "id                                                                        \n",
       "0           239                6     266.0           227      33.457724   \n",
       "1           227                6     333.0           228      33.458783   \n",
       "\n",
       "    next_longitude  next_arrive_time  weekday_0  weekday_1  \n",
       "id                                                          \n",
       "0       126.554014                24          1          0  \n",
       "1       126.557353                36          1          0  "
      ]
     },
     "execution_count": 30,
     "metadata": {},
     "output_type": "execute_result"
    }
   ],
   "source": [
    "train['weekday'] = train['date'].dt.weekday\n",
    "train['weekday'] = train['weekday'].apply(lambda x : 0 if x < 5 else 1) \n",
    "\n",
    "train = pd.get_dummies(train, columns=['weekday'])\n",
    "train.head(2)"
   ]
  },
  {
   "cell_type": "code",
   "execution_count": 31,
   "id": "ac9d7e9d",
   "metadata": {},
   "outputs": [
    {
     "data": {
      "text/html": [
       "<div>\n",
       "<style scoped>\n",
       "    .dataframe tbody tr th:only-of-type {\n",
       "        vertical-align: middle;\n",
       "    }\n",
       "\n",
       "    .dataframe tbody tr th {\n",
       "        vertical-align: top;\n",
       "    }\n",
       "\n",
       "    .dataframe thead th {\n",
       "        text-align: right;\n",
       "    }\n",
       "</style>\n",
       "<table border=\"1\" class=\"dataframe\">\n",
       "  <thead>\n",
       "    <tr style=\"text-align: right;\">\n",
       "      <th></th>\n",
       "      <th>date</th>\n",
       "      <th>route_id</th>\n",
       "      <th>vh_id</th>\n",
       "      <th>route_nm</th>\n",
       "      <th>now_latitude</th>\n",
       "      <th>now_longitude</th>\n",
       "      <th>now_station</th>\n",
       "      <th>now_arrive_time</th>\n",
       "      <th>distance</th>\n",
       "      <th>next_station</th>\n",
       "      <th>next_latitude</th>\n",
       "      <th>next_longitude</th>\n",
       "      <th>weekday_0</th>\n",
       "      <th>weekday_1</th>\n",
       "    </tr>\n",
       "    <tr>\n",
       "      <th>id</th>\n",
       "      <th></th>\n",
       "      <th></th>\n",
       "      <th></th>\n",
       "      <th></th>\n",
       "      <th></th>\n",
       "      <th></th>\n",
       "      <th></th>\n",
       "      <th></th>\n",
       "      <th></th>\n",
       "      <th></th>\n",
       "      <th></th>\n",
       "      <th></th>\n",
       "      <th></th>\n",
       "      <th></th>\n",
       "    </tr>\n",
       "  </thead>\n",
       "  <tbody>\n",
       "    <tr>\n",
       "      <th>210457</th>\n",
       "      <td>2019-10-29</td>\n",
       "      <td>405136001</td>\n",
       "      <td>7997025</td>\n",
       "      <td>360-1</td>\n",
       "      <td>33.457724</td>\n",
       "      <td>126.554014</td>\n",
       "      <td>227</td>\n",
       "      <td>7</td>\n",
       "      <td>333.0</td>\n",
       "      <td>228</td>\n",
       "      <td>33.458783</td>\n",
       "      <td>126.557353</td>\n",
       "      <td>1</td>\n",
       "      <td>0</td>\n",
       "    </tr>\n",
       "    <tr>\n",
       "      <th>210458</th>\n",
       "      <td>2019-10-29</td>\n",
       "      <td>405136001</td>\n",
       "      <td>7997025</td>\n",
       "      <td>360-1</td>\n",
       "      <td>33.458783</td>\n",
       "      <td>126.557353</td>\n",
       "      <td>228</td>\n",
       "      <td>7</td>\n",
       "      <td>415.0</td>\n",
       "      <td>235</td>\n",
       "      <td>33.459893</td>\n",
       "      <td>126.561624</td>\n",
       "      <td>1</td>\n",
       "      <td>0</td>\n",
       "    </tr>\n",
       "  </tbody>\n",
       "</table>\n",
       "</div>"
      ],
      "text/plain": [
       "             date   route_id    vh_id route_nm  now_latitude  now_longitude  \\\n",
       "id                                                                            \n",
       "210457 2019-10-29  405136001  7997025    360-1     33.457724     126.554014   \n",
       "210458 2019-10-29  405136001  7997025    360-1     33.458783     126.557353   \n",
       "\n",
       "        now_station  now_arrive_time  distance  next_station  next_latitude  \\\n",
       "id                                                                            \n",
       "210457          227                7     333.0           228      33.458783   \n",
       "210458          228                7     415.0           235      33.459893   \n",
       "\n",
       "        next_longitude  weekday_0  weekday_1  \n",
       "id                                            \n",
       "210457      126.557353          1          0  \n",
       "210458      126.561624          1          0  "
      ]
     },
     "execution_count": 31,
     "metadata": {},
     "output_type": "execute_result"
    }
   ],
   "source": [
    "test['weekday'] = test['date'].dt.weekday\n",
    "test['weekday'] = test['weekday'].apply(lambda x : 0 if x < 5 else 1) \n",
    "\n",
    "test = pd.get_dummies(test, columns=['weekday'])\n",
    "test.head(2)"
   ]
  },
  {
   "cell_type": "code",
   "execution_count": 32,
   "id": "0293cad2",
   "metadata": {},
   "outputs": [
    {
     "data": {
      "text/plain": [
       "route_nm    21\n",
       "dtype: int64"
      ]
     },
     "execution_count": 32,
     "metadata": {},
     "output_type": "execute_result"
    }
   ],
   "source": [
    "train.select_dtypes(include=\"object\").nunique().nlargest()"
   ]
  },
  {
   "cell_type": "code",
   "execution_count": 33,
   "id": "83080079",
   "metadata": {},
   "outputs": [
    {
     "data": {
      "text/plain": [
       "221    3519\n",
       "249    3207\n",
       "176    3190\n",
       "222    3105\n",
       "229    2553\n",
       "       ... \n",
       "37       14\n",
       "118      12\n",
       "307      10\n",
       "225       7\n",
       "243       2\n",
       "Name: next_station, Length: 350, dtype: int64"
      ]
     },
     "execution_count": 33,
     "metadata": {},
     "output_type": "execute_result"
    }
   ],
   "source": [
    "nextcnt = train['next_station'].value_counts()\n",
    "nextcnt"
   ]
  },
  {
   "cell_type": "code",
   "execution_count": 34,
   "id": "d9133c9b",
   "metadata": {},
   "outputs": [
    {
     "data": {
      "text/plain": [
       "41     3361\n",
       "176    3098\n",
       "63     3093\n",
       "222    3056\n",
       "221    2789\n",
       "       ... \n",
       "113      25\n",
       "192      21\n",
       "145      18\n",
       "307      11\n",
       "225       7\n",
       "Name: now_station, Length: 348, dtype: int64"
      ]
     },
     "execution_count": 34,
     "metadata": {},
     "output_type": "execute_result"
    }
   ],
   "source": [
    "nowcnt = train['now_station'].value_counts()\n",
    "nowcnt"
   ]
  },
  {
   "cell_type": "code",
   "execution_count": 35,
   "id": "e455cebc",
   "metadata": {},
   "outputs": [
    {
     "data": {
      "text/plain": [
       "<AxesSubplot:xlabel='count', ylabel='next_station'>"
      ]
     },
     "execution_count": 35,
     "metadata": {},
     "output_type": "execute_result"
    },
    {
     "data": {
      "image/png": "[encoded data removed]",
      "text/plain": [
       "<Figure size 432x288 with 1 Axes>"
      ]
     },
     "metadata": {
      "needs_background": "light"
     },
     "output_type": "display_data"
    }
   ],
   "source": [
    "sns.countplot(data=train, y=\"next_station\", order=nextcnt.index)"
   ]
  },
  {
   "cell_type": "code",
   "execution_count": 36,
   "id": "918d69d8",
   "metadata": {},
   "outputs": [
    {
     "data": {
      "text/plain": [
       "<AxesSubplot:xlabel='count', ylabel='now_station'>"
      ]
     },
     "execution_count": 36,
     "metadata": {},
     "output_type": "execute_result"
    },
    {
     "data": {
      "image/png": "[encoded data removed]",
      "text/plain": [
       "<Figure size 432x288 with 1 Axes>"
      ]
     },
     "metadata": {
      "needs_background": "light"
     },
     "output_type": "display_data"
    }
   ],
   "source": [
    "sns.countplot(data=train, y=\"now_station\", order=nowcnt.index)"
   ]
  },
  {
   "cell_type": "code",
   "execution_count": 37,
   "id": "562ef1b6",
   "metadata": {},
   "outputs": [
    {
     "data": {
      "text/plain": [
       "'next_arrive_time'"
      ]
     },
     "execution_count": 37,
     "metadata": {},
     "output_type": "execute_result"
    }
   ],
   "source": [
    "label_name = 'next_arrive_time'\n",
    "label_name"
   ]
  },
  {
   "cell_type": "code",
   "execution_count": 38,
   "id": "f1256397",
   "metadata": {},
   "outputs": [
    {
     "data": {
      "text/plain": [
       "['date',\n",
       " 'route_id',\n",
       " 'vh_id',\n",
       " 'route_nm',\n",
       " 'now_latitude',\n",
       " 'now_longitude',\n",
       " 'now_station',\n",
       " 'now_arrive_time',\n",
       " 'distance',\n",
       " 'next_station',\n",
       " 'next_latitude',\n",
       " 'next_longitude',\n",
       " 'next_arrive_time',\n",
       " 'weekday_0',\n",
       " 'weekday_1']"
      ]
     },
     "execution_count": 38,
     "metadata": {},
     "output_type": "execute_result"
    }
   ],
   "source": [
    "train.columns.tolist()"
   ]
  },
  {
   "cell_type": "code",
   "execution_count": 39,
   "id": "1806f579",
   "metadata": {},
   "outputs": [
    {
     "data": {
      "text/plain": [
       "['route_id',\n",
       " 'vh_id',\n",
       " 'now_station',\n",
       " 'now_arrive_time',\n",
       " 'distance',\n",
       " 'next_station',\n",
       " 'weekday_0',\n",
       " 'weekday_1']"
      ]
     },
     "execution_count": 39,
     "metadata": {},
     "output_type": "execute_result"
    }
   ],
   "source": [
    "feature_names = train.columns.tolist()\n",
    "feature_names.remove(label_name)\n",
    "feature_names.remove('date')\n",
    "feature_names.remove('route_nm')\n",
    "feature_names.remove('now_latitude')\n",
    "feature_names.remove('now_longitude')\n",
    "feature_names.remove('next_latitude')\n",
    "feature_names.remove('next_longitude')\n",
    "\n",
    "feature_names"
   ]
  },
  {
   "cell_type": "code",
   "execution_count": 40,
   "id": "99ba40c7",
   "metadata": {},
   "outputs": [
    {
     "name": "stdout",
     "output_type": "stream",
     "text": [
      "(210257, 8)\n"
     ]
    },
    {
     "data": {
      "text/html": [
       "<div>\n",
       "<style scoped>\n",
       "    .dataframe tbody tr th:only-of-type {\n",
       "        vertical-align: middle;\n",
       "    }\n",
       "\n",
       "    .dataframe tbody tr th {\n",
       "        vertical-align: top;\n",
       "    }\n",
       "\n",
       "    .dataframe thead th {\n",
       "        text-align: right;\n",
       "    }\n",
       "</style>\n",
       "<table border=\"1\" class=\"dataframe\">\n",
       "  <thead>\n",
       "    <tr style=\"text-align: right;\">\n",
       "      <th></th>\n",
       "      <th>route_id</th>\n",
       "      <th>vh_id</th>\n",
       "      <th>now_station</th>\n",
       "      <th>now_arrive_time</th>\n",
       "      <th>distance</th>\n",
       "      <th>next_station</th>\n",
       "      <th>weekday_0</th>\n",
       "      <th>weekday_1</th>\n",
       "    </tr>\n",
       "    <tr>\n",
       "      <th>id</th>\n",
       "      <th></th>\n",
       "      <th></th>\n",
       "      <th></th>\n",
       "      <th></th>\n",
       "      <th></th>\n",
       "      <th></th>\n",
       "      <th></th>\n",
       "      <th></th>\n",
       "    </tr>\n",
       "  </thead>\n",
       "  <tbody>\n",
       "    <tr>\n",
       "      <th>0</th>\n",
       "      <td>405136001</td>\n",
       "      <td>7997025</td>\n",
       "      <td>239</td>\n",
       "      <td>6</td>\n",
       "      <td>266.0</td>\n",
       "      <td>227</td>\n",
       "      <td>1</td>\n",
       "      <td>0</td>\n",
       "    </tr>\n",
       "    <tr>\n",
       "      <th>1</th>\n",
       "      <td>405136001</td>\n",
       "      <td>7997025</td>\n",
       "      <td>227</td>\n",
       "      <td>6</td>\n",
       "      <td>333.0</td>\n",
       "      <td>228</td>\n",
       "      <td>1</td>\n",
       "      <td>0</td>\n",
       "    </tr>\n",
       "  </tbody>\n",
       "</table>\n",
       "</div>"
      ],
      "text/plain": [
       "     route_id    vh_id  now_station  now_arrive_time  distance  next_station  \\\n",
       "id                                                                             \n",
       "0   405136001  7997025          239                6     266.0           227   \n",
       "1   405136001  7997025          227                6     333.0           228   \n",
       "\n",
       "    weekday_0  weekday_1  \n",
       "id                        \n",
       "0           1          0  \n",
       "1           1          0  "
      ]
     },
     "execution_count": 40,
     "metadata": {},
     "output_type": "execute_result"
    }
   ],
   "source": [
    "X_train = train[feature_names]\n",
    "print(X_train.shape)\n",
    "X_train.head(2)"
   ]
  },
  {
   "cell_type": "code",
   "execution_count": 41,
   "id": "0bf3e771",
   "metadata": {},
   "outputs": [
    {
     "name": "stdout",
     "output_type": "stream",
     "text": [
      "(91774, 8)\n"
     ]
    },
    {
     "data": {
      "text/html": [
       "<div>\n",
       "<style scoped>\n",
       "    .dataframe tbody tr th:only-of-type {\n",
       "        vertical-align: middle;\n",
       "    }\n",
       "\n",
       "    .dataframe tbody tr th {\n",
       "        vertical-align: top;\n",
       "    }\n",
       "\n",
       "    .dataframe thead th {\n",
       "        text-align: right;\n",
       "    }\n",
       "</style>\n",
       "<table border=\"1\" class=\"dataframe\">\n",
       "  <thead>\n",
       "    <tr style=\"text-align: right;\">\n",
       "      <th></th>\n",
       "      <th>route_id</th>\n",
       "      <th>vh_id</th>\n",
       "      <th>now_station</th>\n",
       "      <th>now_arrive_time</th>\n",
       "      <th>distance</th>\n",
       "      <th>next_station</th>\n",
       "      <th>weekday_0</th>\n",
       "      <th>weekday_1</th>\n",
       "    </tr>\n",
       "    <tr>\n",
       "      <th>id</th>\n",
       "      <th></th>\n",
       "      <th></th>\n",
       "      <th></th>\n",
       "      <th></th>\n",
       "      <th></th>\n",
       "      <th></th>\n",
       "      <th></th>\n",
       "      <th></th>\n",
       "    </tr>\n",
       "  </thead>\n",
       "  <tbody>\n",
       "    <tr>\n",
       "      <th>210457</th>\n",
       "      <td>405136001</td>\n",
       "      <td>7997025</td>\n",
       "      <td>227</td>\n",
       "      <td>7</td>\n",
       "      <td>333.0</td>\n",
       "      <td>228</td>\n",
       "      <td>1</td>\n",
       "      <td>0</td>\n",
       "    </tr>\n",
       "    <tr>\n",
       "      <th>210458</th>\n",
       "      <td>405136001</td>\n",
       "      <td>7997025</td>\n",
       "      <td>228</td>\n",
       "      <td>7</td>\n",
       "      <td>415.0</td>\n",
       "      <td>235</td>\n",
       "      <td>1</td>\n",
       "      <td>0</td>\n",
       "    </tr>\n",
       "  </tbody>\n",
       "</table>\n",
       "</div>"
      ],
      "text/plain": [
       "         route_id    vh_id  now_station  now_arrive_time  distance  \\\n",
       "id                                                                   \n",
       "210457  405136001  7997025          227                7     333.0   \n",
       "210458  405136001  7997025          228                7     415.0   \n",
       "\n",
       "        next_station  weekday_0  weekday_1  \n",
       "id                                          \n",
       "210457           228          1          0  \n",
       "210458           235          1          0  "
      ]
     },
     "execution_count": 41,
     "metadata": {},
     "output_type": "execute_result"
    }
   ],
   "source": [
    "X_test = test[feature_names]\n",
    "print(X_test.shape)\n",
    "X_test.head(2)"
   ]
  },
  {
   "cell_type": "code",
   "execution_count": 42,
   "id": "311f99e0",
   "metadata": {},
   "outputs": [
    {
     "name": "stdout",
     "output_type": "stream",
     "text": [
      "(210257,)\n"
     ]
    }
   ],
   "source": [
    "y_train = train[label_name]\n",
    "print(y_train.shape)"
   ]
  },
  {
   "cell_type": "code",
   "execution_count": 43,
   "id": "70b4f7d6",
   "metadata": {},
   "outputs": [
    {
     "data": {
      "text/html": [
       "<style>#sk-container-id-1 {color: black;background-color: white;}#sk-container-id-1 pre{padding: 0;}#sk-container-id-1 div.sk-toggleable {background-color: white;}#sk-container-id-1 label.sk-toggleable__label {cursor: pointer;display: block;width: 100%;margin-bottom: 0;padding: 0.3em;box-sizing: border-box;text-align: center;}#sk-container-id-1 label.sk-toggleable__label-arrow:before {content: \"▸\";float: left;margin-right: 0.25em;color: #696969;}#sk-container-id-1 label.sk-toggleable__label-arrow:hover:before {color: black;}#sk-container-id-1 div.sk-estimator:hover label.sk-toggleable__label-arrow:before {color: black;}#sk-container-id-1 div.sk-toggleable__content {max-height: 0;max-width: 0;overflow: hidden;text-align: left;background-color: #f0f8ff;}#sk-container-id-1 div.sk-toggleable__content pre {margin: 0.2em;color: black;border-radius: 0.25em;background-color: #f0f8ff;}#sk-container-id-1 input.sk-toggleable__control:checked~div.sk-toggleable__content {max-height: 200px;max-width: 100%;overflow: auto;}#sk-container-id-1 input.sk-toggleable__control:checked~label.sk-toggleable__label-arrow:before {content: \"▾\";}#sk-container-id-1 div.sk-estimator input.sk-toggleable__control:checked~label.sk-toggleable__label {background-color: #d4ebff;}#sk-container-id-1 div.sk-label input.sk-toggleable__control:checked~label.sk-toggleable__label {background-color: #d4ebff;}#sk-container-id-1 input.sk-hidden--visually {border: 0;clip: rect(1px 1px 1px 1px);clip: rect(1px, 1px, 1px, 1px);height: 1px;margin: -1px;overflow: hidden;padding: 0;position: absolute;width: 1px;}#sk-container-id-1 div.sk-estimator {font-family: monospace;background-color: #f0f8ff;border: 1px dotted black;border-radius: 0.25em;box-sizing: border-box;margin-bottom: 0.5em;}#sk-container-id-1 div.sk-estimator:hover {background-color: #d4ebff;}#sk-container-id-1 div.sk-parallel-item::after {content: \"\";width: 100%;border-bottom: 1px solid gray;flex-grow: 1;}#sk-container-id-1 div.sk-label:hover label.sk-toggleable__label {background-color: #d4ebff;}#sk-container-id-1 div.sk-serial::before {content: \"\";position: absolute;border-left: 1px solid gray;box-sizing: border-box;top: 0;bottom: 0;left: 50%;z-index: 0;}#sk-container-id-1 div.sk-serial {display: flex;flex-direction: column;align-items: center;background-color: white;padding-right: 0.2em;padding-left: 0.2em;position: relative;}#sk-container-id-1 div.sk-item {position: relative;z-index: 1;}#sk-container-id-1 div.sk-parallel {display: flex;align-items: stretch;justify-content: center;background-color: white;position: relative;}#sk-container-id-1 div.sk-item::before, #sk-container-id-1 div.sk-parallel-item::before {content: \"\";position: absolute;border-left: 1px solid gray;box-sizing: border-box;top: 0;bottom: 0;left: 50%;z-index: -1;}#sk-container-id-1 div.sk-parallel-item {display: flex;flex-direction: column;z-index: 1;position: relative;background-color: white;}#sk-container-id-1 div.sk-parallel-item:first-child::after {align-self: flex-end;width: 50%;}#sk-container-id-1 div.sk-parallel-item:last-child::after {align-self: flex-start;width: 50%;}#sk-container-id-1 div.sk-parallel-item:only-child::after {width: 0;}#sk-container-id-1 div.sk-dashed-wrapped {border: 1px dashed gray;margin: 0 0.4em 0.5em 0.4em;box-sizing: border-box;padding-bottom: 0.4em;background-color: white;}#sk-container-id-1 div.sk-label label {font-family: monospace;font-weight: bold;display: inline-block;line-height: 1.2em;}#sk-container-id-1 div.sk-label-container {text-align: center;}#sk-container-id-1 div.sk-container {/* jupyter's `normalize.less` sets `[hidden] { display: none; }` but bootstrap.min.css set `[hidden] { display: none !important; }` so we also need the `!important` here to be able to override the default hidden behavior on the sphinx rendered scikit-learn.org. See: https://github.com/scikit-learn/scikit-learn/issues/21755 */display: inline-block !important;position: relative;}#sk-container-id-1 div.sk-text-repr-fallback {display: none;}</style><div id=\"sk-container-id-1\" class=\"sk-top-container\"><div class=\"sk-text-repr-fallback\"><pre>RandomForestRegressor(n_jobs=-1, random_state=42)</pre><b>In a Jupyter environment, please rerun this cell to show the HTML representation or trust the notebook. <br />On GitHub, the HTML representation is unable to render, please try loading this page with nbviewer.org.</b></div><div class=\"sk-container\" hidden><div class=\"sk-item\"><div class=\"sk-estimator sk-toggleable\"><input class=\"sk-toggleable__control sk-hidden--visually\" id=\"sk-estimator-id-1\" type=\"checkbox\" checked><label for=\"sk-estimator-id-1\" class=\"sk-toggleable__label sk-toggleable__label-arrow\">RandomForestRegressor</label><div class=\"sk-toggleable__content\"><pre>RandomForestRegressor(n_jobs=-1, random_state=42)</pre></div></div></div></div></div>"
      ],
      "text/plain": [
       "RandomForestRegressor(n_jobs=-1, random_state=42)"
      ]
     },
     "execution_count": 43,
     "metadata": {},
     "output_type": "execute_result"
    }
   ],
   "source": [
    "from sklearn.ensemble import RandomForestRegressor\n",
    "\n",
    "model = RandomForestRegressor(random_state=42, n_jobs=-1)\n",
    "model"
   ]
  },
  {
   "cell_type": "code",
   "execution_count": 44,
   "id": "718ed412",
   "metadata": {},
   "outputs": [
    {
     "name": "stdout",
     "output_type": "stream",
     "text": [
      "Fitting 5 folds for each of 10 candidates, totalling 50 fits\n"
     ]
    },
    {
     "data": {
      "text/html": [
       "<style>#sk-container-id-2 {color: black;background-color: white;}#sk-container-id-2 pre{padding: 0;}#sk-container-id-2 div.sk-toggleable {background-color: white;}#sk-container-id-2 label.sk-toggleable__label {cursor: pointer;display: block;width: 100%;margin-bottom: 0;padding: 0.3em;box-sizing: border-box;text-align: center;}#sk-container-id-2 label.sk-toggleable__label-arrow:before {content: \"▸\";float: left;margin-right: 0.25em;color: #696969;}#sk-container-id-2 label.sk-toggleable__label-arrow:hover:before {color: black;}#sk-container-id-2 div.sk-estimator:hover label.sk-toggleable__label-arrow:before {color: black;}#sk-container-id-2 div.sk-toggleable__content {max-height: 0;max-width: 0;overflow: hidden;text-align: left;background-color: #f0f8ff;}#sk-container-id-2 div.sk-toggleable__content pre {margin: 0.2em;color: black;border-radius: 0.25em;background-color: #f0f8ff;}#sk-container-id-2 input.sk-toggleable__control:checked~div.sk-toggleable__content {max-height: 200px;max-width: 100%;overflow: auto;}#sk-container-id-2 input.sk-toggleable__control:checked~label.sk-toggleable__label-arrow:before {content: \"▾\";}#sk-container-id-2 div.sk-estimator input.sk-toggleable__control:checked~label.sk-toggleable__label {background-color: #d4ebff;}#sk-container-id-2 div.sk-label input.sk-toggleable__control:checked~label.sk-toggleable__label {background-color: #d4ebff;}#sk-container-id-2 input.sk-hidden--visually {border: 0;clip: rect(1px 1px 1px 1px);clip: rect(1px, 1px, 1px, 1px);height: 1px;margin: -1px;overflow: hidden;padding: 0;position: absolute;width: 1px;}#sk-container-id-2 div.sk-estimator {font-family: monospace;background-color: #f0f8ff;border: 1px dotted black;border-radius: 0.25em;box-sizing: border-box;margin-bottom: 0.5em;}#sk-container-id-2 div.sk-estimator:hover {background-color: #d4ebff;}#sk-container-id-2 div.sk-parallel-item::after {content: \"\";width: 100%;border-bottom: 1px solid gray;flex-grow: 1;}#sk-container-id-2 div.sk-label:hover label.sk-toggleable__label {background-color: #d4ebff;}#sk-container-id-2 div.sk-serial::before {content: \"\";position: absolute;border-left: 1px solid gray;box-sizing: border-box;top: 0;bottom: 0;left: 50%;z-index: 0;}#sk-container-id-2 div.sk-serial {display: flex;flex-direction: column;align-items: center;background-color: white;padding-right: 0.2em;padding-left: 0.2em;position: relative;}#sk-container-id-2 div.sk-item {position: relative;z-index: 1;}#sk-container-id-2 div.sk-parallel {display: flex;align-items: stretch;justify-content: center;background-color: white;position: relative;}#sk-container-id-2 div.sk-item::before, #sk-container-id-2 div.sk-parallel-item::before {content: \"\";position: absolute;border-left: 1px solid gray;box-sizing: border-box;top: 0;bottom: 0;left: 50%;z-index: -1;}#sk-container-id-2 div.sk-parallel-item {display: flex;flex-direction: column;z-index: 1;position: relative;background-color: white;}#sk-container-id-2 div.sk-parallel-item:first-child::after {align-self: flex-end;width: 50%;}#sk-container-id-2 div.sk-parallel-item:last-child::after {align-self: flex-start;width: 50%;}#sk-container-id-2 div.sk-parallel-item:only-child::after {width: 0;}#sk-container-id-2 div.sk-dashed-wrapped {border: 1px dashed gray;margin: 0 0.4em 0.5em 0.4em;box-sizing: border-box;padding-bottom: 0.4em;background-color: white;}#sk-container-id-2 div.sk-label label {font-family: monospace;font-weight: bold;display: inline-block;line-height: 1.2em;}#sk-container-id-2 div.sk-label-container {text-align: center;}#sk-container-id-2 div.sk-container {/* jupyter's `normalize.less` sets `[hidden] { display: none; }` but bootstrap.min.css set `[hidden] { display: none !important; }` so we also need the `!important` here to be able to override the default hidden behavior on the sphinx rendered scikit-learn.org. See: https://github.com/scikit-learn/scikit-learn/issues/21755 */display: inline-block !important;position: relative;}#sk-container-id-2 div.sk-text-repr-fallback {display: none;}</style><div id=\"sk-container-id-2\" class=\"sk-top-container\"><div class=\"sk-text-repr-fallback\"><pre>RandomizedSearchCV(cv=5,\n",
       "                   estimator=RandomForestRegressor(n_jobs=-1, random_state=42),\n",
       "                   n_jobs=-1,\n",
       "                   param_distributions={&#x27;max_depth&#x27;: array([23, 28, 20, 15, 19, 29, 17, 17, 20, 24]),\n",
       "                                        &#x27;max_features&#x27;: array([0.9600236 , 0.92107563, 0.99614334, 0.9862188 , 0.89899882,\n",
       "       0.88338077, 0.96667789, 0.91022071, 0.93600563, 0.92902084])},\n",
       "                   random_state=42, scoring=&#x27;neg_root_mean_squared_error&#x27;,\n",
       "                   verbose=2)</pre><b>In a Jupyter environment, please rerun this cell to show the HTML representation or trust the notebook. <br />On GitHub, the HTML representation is unable to render, please try loading this page with nbviewer.org.</b></div><div class=\"sk-container\" hidden><div class=\"sk-item sk-dashed-wrapped\"><div class=\"sk-label-container\"><div class=\"sk-label sk-toggleable\"><input class=\"sk-toggleable__control sk-hidden--visually\" id=\"sk-estimator-id-2\" type=\"checkbox\" ><label for=\"sk-estimator-id-2\" class=\"sk-toggleable__label sk-toggleable__label-arrow\">RandomizedSearchCV</label><div class=\"sk-toggleable__content\"><pre>RandomizedSearchCV(cv=5,\n",
       "                   estimator=RandomForestRegressor(n_jobs=-1, random_state=42),\n",
       "                   n_jobs=-1,\n",
       "                   param_distributions={&#x27;max_depth&#x27;: array([23, 28, 20, 15, 19, 29, 17, 17, 20, 24]),\n",
       "                                        &#x27;max_features&#x27;: array([0.9600236 , 0.92107563, 0.99614334, 0.9862188 , 0.89899882,\n",
       "       0.88338077, 0.96667789, 0.91022071, 0.93600563, 0.92902084])},\n",
       "                   random_state=42, scoring=&#x27;neg_root_mean_squared_error&#x27;,\n",
       "                   verbose=2)</pre></div></div></div><div class=\"sk-parallel\"><div class=\"sk-parallel-item\"><div class=\"sk-item\"><div class=\"sk-label-container\"><div class=\"sk-label sk-toggleable\"><input class=\"sk-toggleable__control sk-hidden--visually\" id=\"sk-estimator-id-3\" type=\"checkbox\" ><label for=\"sk-estimator-id-3\" class=\"sk-toggleable__label sk-toggleable__label-arrow\">estimator: RandomForestRegressor</label><div class=\"sk-toggleable__content\"><pre>RandomForestRegressor(n_jobs=-1, random_state=42)</pre></div></div></div><div class=\"sk-serial\"><div class=\"sk-item\"><div class=\"sk-estimator sk-toggleable\"><input class=\"sk-toggleable__control sk-hidden--visually\" id=\"sk-estimator-id-4\" type=\"checkbox\" ><label for=\"sk-estimator-id-4\" class=\"sk-toggleable__label sk-toggleable__label-arrow\">RandomForestRegressor</label><div class=\"sk-toggleable__content\"><pre>RandomForestRegressor(n_jobs=-1, random_state=42)</pre></div></div></div></div></div></div></div></div></div></div>"
      ],
      "text/plain": [
       "RandomizedSearchCV(cv=5,\n",
       "                   estimator=RandomForestRegressor(n_jobs=-1, random_state=42),\n",
       "                   n_jobs=-1,\n",
       "                   param_distributions={'max_depth': array([23, 28, 20, 15, 19, 29, 17, 17, 20, 24]),\n",
       "                                        'max_features': array([0.9600236 , 0.92107563, 0.99614334, 0.9862188 , 0.89899882,\n",
       "       0.88338077, 0.96667789, 0.91022071, 0.93600563, 0.92902084])},\n",
       "                   random_state=42, scoring='neg_root_mean_squared_error',\n",
       "                   verbose=2)"
      ]
     },
     "execution_count": 44,
     "metadata": {},
     "output_type": "execute_result"
    }
   ],
   "source": [
    "from sklearn.model_selection import RandomizedSearchCV\n",
    "\n",
    "param_distributions = {\"max_depth\": np.random.randint(15, 30, 10), \n",
    "                       \"max_features\": np.random.uniform(0.8, 1, 10)}\n",
    "\n",
    "reg = RandomizedSearchCV(model, \n",
    "                         param_distributions=param_distributions, \n",
    "                         scoring=\"neg_root_mean_squared_error\",\n",
    "                         n_iter=10, cv=5, n_jobs=-1,\n",
    "                         verbose=2, random_state=42)\n",
    "reg.fit(X_train, y_train)"
   ]
  },
  {
   "cell_type": "code",
   "execution_count": 45,
   "id": "92a0f8df",
   "metadata": {},
   "outputs": [
    {
     "data": {
      "text/html": [
       "<style>#sk-container-id-3 {color: black;background-color: white;}#sk-container-id-3 pre{padding: 0;}#sk-container-id-3 div.sk-toggleable {background-color: white;}#sk-container-id-3 label.sk-toggleable__label {cursor: pointer;display: block;width: 100%;margin-bottom: 0;padding: 0.3em;box-sizing: border-box;text-align: center;}#sk-container-id-3 label.sk-toggleable__label-arrow:before {content: \"▸\";float: left;margin-right: 0.25em;color: #696969;}#sk-container-id-3 label.sk-toggleable__label-arrow:hover:before {color: black;}#sk-container-id-3 div.sk-estimator:hover label.sk-toggleable__label-arrow:before {color: black;}#sk-container-id-3 div.sk-toggleable__content {max-height: 0;max-width: 0;overflow: hidden;text-align: left;background-color: #f0f8ff;}#sk-container-id-3 div.sk-toggleable__content pre {margin: 0.2em;color: black;border-radius: 0.25em;background-color: #f0f8ff;}#sk-container-id-3 input.sk-toggleable__control:checked~div.sk-toggleable__content {max-height: 200px;max-width: 100%;overflow: auto;}#sk-container-id-3 input.sk-toggleable__control:checked~label.sk-toggleable__label-arrow:before {content: \"▾\";}#sk-container-id-3 div.sk-estimator input.sk-toggleable__control:checked~label.sk-toggleable__label {background-color: #d4ebff;}#sk-container-id-3 div.sk-label input.sk-toggleable__control:checked~label.sk-toggleable__label {background-color: #d4ebff;}#sk-container-id-3 input.sk-hidden--visually {border: 0;clip: rect(1px 1px 1px 1px);clip: rect(1px, 1px, 1px, 1px);height: 1px;margin: -1px;overflow: hidden;padding: 0;position: absolute;width: 1px;}#sk-container-id-3 div.sk-estimator {font-family: monospace;background-color: #f0f8ff;border: 1px dotted black;border-radius: 0.25em;box-sizing: border-box;margin-bottom: 0.5em;}#sk-container-id-3 div.sk-estimator:hover {background-color: #d4ebff;}#sk-container-id-3 div.sk-parallel-item::after {content: \"\";width: 100%;border-bottom: 1px solid gray;flex-grow: 1;}#sk-container-id-3 div.sk-label:hover label.sk-toggleable__label {background-color: #d4ebff;}#sk-container-id-3 div.sk-serial::before {content: \"\";position: absolute;border-left: 1px solid gray;box-sizing: border-box;top: 0;bottom: 0;left: 50%;z-index: 0;}#sk-container-id-3 div.sk-serial {display: flex;flex-direction: column;align-items: center;background-color: white;padding-right: 0.2em;padding-left: 0.2em;position: relative;}#sk-container-id-3 div.sk-item {position: relative;z-index: 1;}#sk-container-id-3 div.sk-parallel {display: flex;align-items: stretch;justify-content: center;background-color: white;position: relative;}#sk-container-id-3 div.sk-item::before, #sk-container-id-3 div.sk-parallel-item::before {content: \"\";position: absolute;border-left: 1px solid gray;box-sizing: border-box;top: 0;bottom: 0;left: 50%;z-index: -1;}#sk-container-id-3 div.sk-parallel-item {display: flex;flex-direction: column;z-index: 1;position: relative;background-color: white;}#sk-container-id-3 div.sk-parallel-item:first-child::after {align-self: flex-end;width: 50%;}#sk-container-id-3 div.sk-parallel-item:last-child::after {align-self: flex-start;width: 50%;}#sk-container-id-3 div.sk-parallel-item:only-child::after {width: 0;}#sk-container-id-3 div.sk-dashed-wrapped {border: 1px dashed gray;margin: 0 0.4em 0.5em 0.4em;box-sizing: border-box;padding-bottom: 0.4em;background-color: white;}#sk-container-id-3 div.sk-label label {font-family: monospace;font-weight: bold;display: inline-block;line-height: 1.2em;}#sk-container-id-3 div.sk-label-container {text-align: center;}#sk-container-id-3 div.sk-container {/* jupyter's `normalize.less` sets `[hidden] { display: none; }` but bootstrap.min.css set `[hidden] { display: none !important; }` so we also need the `!important` here to be able to override the default hidden behavior on the sphinx rendered scikit-learn.org. See: https://github.com/scikit-learn/scikit-learn/issues/21755 */display: inline-block !important;position: relative;}#sk-container-id-3 div.sk-text-repr-fallback {display: none;}</style><div id=\"sk-container-id-3\" class=\"sk-top-container\"><div class=\"sk-text-repr-fallback\"><pre>RandomForestRegressor(max_depth=15, max_features=0.9290208445924963, n_jobs=-1,\n",
       "                      random_state=42)</pre><b>In a Jupyter environment, please rerun this cell to show the HTML representation or trust the notebook. <br />On GitHub, the HTML representation is unable to render, please try loading this page with nbviewer.org.</b></div><div class=\"sk-container\" hidden><div class=\"sk-item\"><div class=\"sk-estimator sk-toggleable\"><input class=\"sk-toggleable__control sk-hidden--visually\" id=\"sk-estimator-id-5\" type=\"checkbox\" checked><label for=\"sk-estimator-id-5\" class=\"sk-toggleable__label sk-toggleable__label-arrow\">RandomForestRegressor</label><div class=\"sk-toggleable__content\"><pre>RandomForestRegressor(max_depth=15, max_features=0.9290208445924963, n_jobs=-1,\n",
       "                      random_state=42)</pre></div></div></div></div></div>"
      ],
      "text/plain": [
       "RandomForestRegressor(max_depth=15, max_features=0.9290208445924963, n_jobs=-1,\n",
       "                      random_state=42)"
      ]
     },
     "execution_count": 45,
     "metadata": {},
     "output_type": "execute_result"
    }
   ],
   "source": [
    "# (max_depth=15, max_features=0.8483619676045983, n_jobs=-1, random_state=42)\n",
    "best_model = reg.best_estimator_\n",
    "best_model"
   ]
  },
  {
   "cell_type": "code",
   "execution_count": 46,
   "id": "46e7c4bb",
   "metadata": {},
   "outputs": [
    {
     "name": "stderr",
     "output_type": "stream",
     "text": [
      "[Parallel(n_jobs=-1)]: Using backend LokyBackend with 8 concurrent workers.\n",
      "[Parallel(n_jobs=-1)]: Done   2 out of   5 | elapsed:  2.3min remaining:  3.4min\n",
      "[Parallel(n_jobs=-1)]: Done   5 out of   5 | elapsed:  2.3min remaining:    0.0s\n",
      "[Parallel(n_jobs=-1)]: Done   5 out of   5 | elapsed:  2.3min finished\n"
     ]
    },
    {
     "data": {
      "text/plain": [
       "array([27.09507397, 36.0344281 , 46.37095111, ..., 19.6388657 ,\n",
       "       25.15597943, 34.33185866])"
      ]
     },
     "execution_count": 46,
     "metadata": {},
     "output_type": "execute_result"
    }
   ],
   "source": [
    "from sklearn.model_selection import cross_val_predict\n",
    "\n",
    "y_valid_pred = cross_val_predict(best_model, X_train, y_train, cv=5, n_jobs=-1, verbose=2)\n",
    "y_valid_pred"
   ]
  },
  {
   "cell_type": "code",
   "execution_count": 47,
   "id": "dd5004aa",
   "metadata": {},
   "outputs": [
    {
     "data": {
      "text/plain": [
       "20.067477596637087"
      ]
     },
     "execution_count": 47,
     "metadata": {},
     "output_type": "execute_result"
    }
   ],
   "source": [
    "from sklearn.metrics import mean_absolute_error\n",
    "\n",
    "mean_absolute_error(y_train, y_valid_pred)"
   ]
  },
  {
   "cell_type": "code",
   "execution_count": 48,
   "id": "66114b15",
   "metadata": {},
   "outputs": [
    {
     "data": {
      "text/plain": [
       "1125.001281657308"
      ]
     },
     "execution_count": 48,
     "metadata": {},
     "output_type": "execute_result"
    }
   ],
   "source": [
    "mse = np.square(y_train - y_valid_pred).mean()\n",
    "mse"
   ]
  },
  {
   "cell_type": "code",
   "execution_count": 49,
   "id": "f533aa64",
   "metadata": {},
   "outputs": [
    {
     "data": {
      "text/plain": [
       "33.5410387683105"
      ]
     },
     "execution_count": 49,
     "metadata": {},
     "output_type": "execute_result"
    }
   ],
   "source": [
    "RMSE = np.sqrt(mse)\n",
    "RMSE"
   ]
  },
  {
   "cell_type": "code",
   "execution_count": 50,
   "id": "8ed2b9ad",
   "metadata": {},
   "outputs": [
    {
     "data": {
      "text/plain": [
       "0.3235125677855108"
      ]
     },
     "execution_count": 50,
     "metadata": {},
     "output_type": "execute_result"
    }
   ],
   "source": [
    "from sklearn.metrics import mean_squared_log_error\n",
    "\n",
    "rmsle = np.sqrt(mean_squared_log_error(y_train, y_valid_pred))\n",
    "rmsle"
   ]
  },
  {
   "cell_type": "code",
   "execution_count": 51,
   "id": "376ef65d",
   "metadata": {},
   "outputs": [
    {
     "data": {
      "text/plain": [
       "array([ 35.60029423,  45.26935182, 136.33407317,  61.21130563,\n",
       "       150.38753603])"
      ]
     },
     "execution_count": 51,
     "metadata": {},
     "output_type": "execute_result"
    }
   ],
   "source": [
    "y_predict = best_model.fit(X_train, y_train).predict(X_test)\n",
    "y_predict[:5]"
   ]
  },
  {
   "cell_type": "code",
   "execution_count": 52,
   "id": "b2859dfa",
   "metadata": {},
   "outputs": [
    {
     "data": {
      "text/html": [
       "<div>\n",
       "<style scoped>\n",
       "    .dataframe tbody tr th:only-of-type {\n",
       "        vertical-align: middle;\n",
       "    }\n",
       "\n",
       "    .dataframe tbody tr th {\n",
       "        vertical-align: top;\n",
       "    }\n",
       "\n",
       "    .dataframe thead th {\n",
       "        text-align: right;\n",
       "    }\n",
       "</style>\n",
       "<table border=\"1\" class=\"dataframe\">\n",
       "  <thead>\n",
       "    <tr style=\"text-align: right;\">\n",
       "      <th></th>\n",
       "      <th>id</th>\n",
       "      <th>next_arrive_time</th>\n",
       "    </tr>\n",
       "  </thead>\n",
       "  <tbody>\n",
       "    <tr>\n",
       "      <th>0</th>\n",
       "      <td>210457</td>\n",
       "      <td>35.600294</td>\n",
       "    </tr>\n",
       "    <tr>\n",
       "      <th>1</th>\n",
       "      <td>210458</td>\n",
       "      <td>45.269352</td>\n",
       "    </tr>\n",
       "  </tbody>\n",
       "</table>\n",
       "</div>"
      ],
      "text/plain": [
       "       id  next_arrive_time\n",
       "0  210457         35.600294\n",
       "1  210458         45.269352"
      ]
     },
     "execution_count": 52,
     "metadata": {},
     "output_type": "execute_result"
    }
   ],
   "source": [
    "sub['next_arrive_time'] = y_predict\n",
    "sub.head(2)"
   ]
  },
  {
   "cell_type": "code",
   "execution_count": 55,
   "id": "57086763",
   "metadata": {},
   "outputs": [
    {
     "data": {
      "text/plain": [
       "'data/submission_0.32351.csv'"
      ]
     },
     "execution_count": 55,
     "metadata": {},
     "output_type": "execute_result"
    }
   ],
   "source": [
    "file_name = f'data/submission_{rmsle:.5f}.csv'\n",
    "file_name"
   ]
  },
  {
   "cell_type": "code",
   "execution_count": 56,
   "id": "41ae6788",
   "metadata": {},
   "outputs": [],
   "source": [
    "sub.to_csv(file_name, index=False)"
   ]
  },
  {
   "cell_type": "code",
   "execution_count": 57,
   "id": "284cfaeb",
   "metadata": {},
   "outputs": [
    {
     "data": {
      "text/html": [
       "<div>\n",
       "<style scoped>\n",
       "    .dataframe tbody tr th:only-of-type {\n",
       "        vertical-align: middle;\n",
       "    }\n",
       "\n",
       "    .dataframe tbody tr th {\n",
       "        vertical-align: top;\n",
       "    }\n",
       "\n",
       "    .dataframe thead th {\n",
       "        text-align: right;\n",
       "    }\n",
       "</style>\n",
       "<table border=\"1\" class=\"dataframe\">\n",
       "  <thead>\n",
       "    <tr style=\"text-align: right;\">\n",
       "      <th></th>\n",
       "      <th>id</th>\n",
       "      <th>next_arrive_time</th>\n",
       "    </tr>\n",
       "  </thead>\n",
       "  <tbody>\n",
       "    <tr>\n",
       "      <th>0</th>\n",
       "      <td>210457</td>\n",
       "      <td>35.600294</td>\n",
       "    </tr>\n",
       "    <tr>\n",
       "      <th>1</th>\n",
       "      <td>210458</td>\n",
       "      <td>45.269352</td>\n",
       "    </tr>\n",
       "    <tr>\n",
       "      <th>2</th>\n",
       "      <td>210459</td>\n",
       "      <td>136.334073</td>\n",
       "    </tr>\n",
       "    <tr>\n",
       "      <th>3</th>\n",
       "      <td>210460</td>\n",
       "      <td>61.211306</td>\n",
       "    </tr>\n",
       "    <tr>\n",
       "      <th>4</th>\n",
       "      <td>210461</td>\n",
       "      <td>150.387536</td>\n",
       "    </tr>\n",
       "    <tr>\n",
       "      <th>...</th>\n",
       "      <td>...</td>\n",
       "      <td>...</td>\n",
       "    </tr>\n",
       "    <tr>\n",
       "      <th>91769</th>\n",
       "      <td>302350</td>\n",
       "      <td>99.507943</td>\n",
       "    </tr>\n",
       "    <tr>\n",
       "      <th>91770</th>\n",
       "      <td>302351</td>\n",
       "      <td>73.376989</td>\n",
       "    </tr>\n",
       "    <tr>\n",
       "      <th>91771</th>\n",
       "      <td>302352</td>\n",
       "      <td>117.379498</td>\n",
       "    </tr>\n",
       "    <tr>\n",
       "      <th>91772</th>\n",
       "      <td>302353</td>\n",
       "      <td>31.091727</td>\n",
       "    </tr>\n",
       "    <tr>\n",
       "      <th>91773</th>\n",
       "      <td>302354</td>\n",
       "      <td>91.226416</td>\n",
       "    </tr>\n",
       "  </tbody>\n",
       "</table>\n",
       "<p>91774 rows × 2 columns</p>\n",
       "</div>"
      ],
      "text/plain": [
       "           id  next_arrive_time\n",
       "0      210457         35.600294\n",
       "1      210458         45.269352\n",
       "2      210459        136.334073\n",
       "3      210460         61.211306\n",
       "4      210461        150.387536\n",
       "...       ...               ...\n",
       "91769  302350         99.507943\n",
       "91770  302351         73.376989\n",
       "91771  302352        117.379498\n",
       "91772  302353         31.091727\n",
       "91773  302354         91.226416\n",
       "\n",
       "[91774 rows x 2 columns]"
      ]
     },
     "execution_count": 57,
     "metadata": {},
     "output_type": "execute_result"
    }
   ],
   "source": [
    "pd.read_csv(file_name)"
   ]
  },
  {
   "cell_type": "code",
   "execution_count": null,
   "id": "b5a35ebe",
   "metadata": {},
   "outputs": [],
   "source": []
  },
  {
   "cell_type": "code",
   "execution_count": null,
   "id": "02a549ed",
   "metadata": {},
   "outputs": [],
   "source": []
  }
 ],
 "metadata": {
  "kernelspec": {
   "display_name": "Python 3.9.12 ('base')",
   "language": "python",
   "name": "python3"
  },
  "language_info": {
   "codemirror_mode": {
    "name": "ipython",
    "version": 3
   },
   "file_extension": ".py",
   "mimetype": "text/x-python",
   "name": "python",
   "nbconvert_exporter": "python",
   "pygments_lexer": "ipython3",
   "version": "3.9.12"
  },
  "toc": {
   "base_numbering": 1,
   "nav_menu": {},
   "number_sections": true,
   "sideBar": true,
   "skip_h1_title": false,
   "title_cell": "Table of Contents",
   "title_sidebar": "Contents",
   "toc_cell": false,
   "toc_position": {},
   "toc_section_display": true,
   "toc_window_display": false
  },
  "varInspector": {
   "cols": {
    "lenName": 16,
    "lenType": 16,
    "lenVar": 40
   },
   "kernels_config": {
    "python": {
     "delete_cmd_postfix": "",
     "delete_cmd_prefix": "del ",
     "library": "var_list.py",
     "varRefreshCmd": "print(var_dic_list())"
    },
    "r": {
     "delete_cmd_postfix": ") ",
     "delete_cmd_prefix": "rm(",
     "library": "var_list.r",
     "varRefreshCmd": "cat(var_dic_list()) "
    }
   },
   "types_to_exclude": [
    "module",
    "function",
    "builtin_function_or_method",
    "instance",
    "_Feature"
   ],
   "window_display": false
  },
  "vscode": {
   "interpreter": {
    "hash": "9f8a59a6a508ca13ffac980bbf3dd3e9298da451c9367e70a5f971bb56b1f7c8"
   }
  }
 },
 "nbformat": 4,
 "nbformat_minor": 5
}
